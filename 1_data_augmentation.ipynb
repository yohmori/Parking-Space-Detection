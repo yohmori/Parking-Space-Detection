{
 "cells": [
  {
   "cell_type": "code",
   "execution_count": 50,
   "metadata": {},
   "outputs": [
    {
     "name": "stderr",
     "output_type": "stream",
     "text": [
      "2023-05-17 00:41:17.614843: I tensorflow/core/platform/cpu_feature_guard.cc:193] This TensorFlow binary is optimized with oneAPI Deep Neural Network Library (oneDNN) to use the following CPU instructions in performance-critical operations:  SSE4.1 SSE4.2\n",
      "To enable them in other operations, rebuild TensorFlow with the appropriate compiler flags.\n"
     ]
    }
   ],
   "source": [
    "import os\n",
    "from tensorflow.keras.preprocessing.image import ImageDataGenerator, img_to_array, load_img"
   ]
  },
  {
   "cell_type": "code",
   "execution_count": 65,
   "metadata": {},
   "outputs": [],
   "source": [
    "datagen = ImageDataGenerator(\n",
    "    rotation_range=5,\n",
    "    width_shift_range=0.05,\n",
    "    height_shift_range=0.05,\n",
    "    shear_range=0.05,\n",
    "    zoom_range=0.05,\n",
    "    brightness_range=(0.75,1.25),\n",
    "    channel_shift_range=10,\n",
    "    horizontal_flip=True,\n",
    "    vertical_flip=True,\n",
    "    fill_mode='nearest'\n",
    ")"
   ]
  },
  {
   "cell_type": "code",
   "execution_count": 69,
   "metadata": {},
   "outputs": [],
   "source": [
    "def data_augmentation(label, input_path, output_path, multiplier):\n",
    "    image_files = os.listdir(input_path)\n",
    "    \n",
    "    for image in image_files:\n",
    "        image_path = os.path.join(input_path, image)\n",
    "        try:\n",
    "            img = load_img(image_path)\n",
    "        \n",
    "            img_np = img_to_array(img)\n",
    "            img_np = img_np.reshape((1,) + img_np.shape)\n",
    "            \n",
    "            i = 0\n",
    "            for batch in datagen.flow(img_np, batch_size=1, save_to_dir=output_path,\n",
    "                                      save_prefix=label, save_format='jpg'):\n",
    "                i += 1\n",
    "                if i > multiplier:\n",
    "                    break\n",
    "        except:\n",
    "            pass"
   ]
  },
  {
   "cell_type": "code",
   "execution_count": 71,
   "metadata": {},
   "outputs": [],
   "source": [
    "input_path = \"./data/empty\"\n",
    "output_path = \"./data/empty_aug\"\n",
    "\n",
    "data_augmentation('empty', input_path, output_path, 100)"
   ]
  },
  {
   "cell_type": "code",
   "execution_count": 72,
   "metadata": {},
   "outputs": [],
   "source": [
    "input_path = \"./data/full\"\n",
    "output_path = \"./data/full_aug\"\n",
    "\n",
    "data_augmentation('empty', input_path, output_path, 65)"
   ]
  }
 ],
 "metadata": {
  "kernelspec": {
   "display_name": "ParkingEnv",
   "language": "python",
   "name": "python3"
  },
  "language_info": {
   "codemirror_mode": {
    "name": "ipython",
    "version": 3
   },
   "file_extension": ".py",
   "mimetype": "text/x-python",
   "name": "python",
   "nbconvert_exporter": "python",
   "pygments_lexer": "ipython3",
   "version": "3.9.16"
  },
  "orig_nbformat": 4
 },
 "nbformat": 4,
 "nbformat_minor": 2
}
