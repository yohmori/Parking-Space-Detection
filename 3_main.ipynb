{
 "cells": [
  {
   "attachments": {},
   "cell_type": "markdown",
   "metadata": {},
   "source": [
    "## 1. Import Libraries"
   ]
  },
  {
   "cell_type": "code",
   "execution_count": 92,
   "metadata": {},
   "outputs": [],
   "source": [
    "import pickle\n",
    "\n",
    "from skimage.transform import resize\n",
    "import numpy as np\n",
    "import cv2"
   ]
  },
  {
   "attachments": {},
   "cell_type": "markdown",
   "metadata": {},
   "source": [
    "## 2. Parameters"
   ]
  },
  {
   "cell_type": "code",
   "execution_count": 93,
   "metadata": {},
   "outputs": [],
   "source": [
    "mask_path = \"./data/mask_1920_1080.png\"\n",
    "video_path = \"./data/parking_1920_1080.mp4\"\n",
    "model_path = './model/svc_best_est.p'\n",
    "\n",
    "blue = (255, 0, 0)\n",
    "green = (0, 255, 0)\n",
    "red = (0, 0, 255)\n",
    "line_wt = 2\n",
    "\n",
    "ret = True\n",
    "frames_per_clf = 30\n",
    "frame_num = 0"
   ]
  },
  {
   "attachments": {},
   "cell_type": "markdown",
   "metadata": {},
   "source": [
    "## 3. Define Functions"
   ]
  },
  {
   "cell_type": "code",
   "execution_count": 94,
   "metadata": {},
   "outputs": [],
   "source": [
    "def get_parking_spots_boxes(cc):\n",
    "    (total_con_comp, comp_label_ids, values, centroid) = cc\n",
    "\n",
    "    # Empty list 'slots' to store the bounding boxes of the parking spots.\n",
    "    slots = []\n",
    "    coef = 1\n",
    "    for i in range(1, total_con_comp):\n",
    "\n",
    "        # Now extract the coordinate points\n",
    "        x1 = int(values[i, cv2.CC_STAT_LEFT] * coef)\n",
    "        y1 = int(values[i, cv2.CC_STAT_TOP] * coef)\n",
    "        w = int(values[i, cv2.CC_STAT_WIDTH] * coef)\n",
    "        h = int(values[i, cv2.CC_STAT_HEIGHT] * coef)\n",
    "\n",
    "        slots.append([x1, y1, w, h])\n",
    "\n",
    "    return slots\n",
    "\n",
    "def get_coor(xywh):\n",
    "    x1, y1, w, h = xywh\n",
    "    top_left = (x1, y1)\n",
    "    bottom_right = (x1 + w, y1 + h)\n",
    "    \n",
    "    return x1, y1, w, h, top_left, bottom_right\n",
    "\n",
    "def is_empty(spot_bgr, model_path):\n",
    "\n",
    "    flat_data = []\n",
    "\n",
    "    img_resized = resize(spot_bgr, (15, 15, 3))\n",
    "    flat_data.append(img_resized.flatten())\n",
    "    flat_data = np.array(flat_data)\n",
    "\n",
    "    MODEL = pickle.load(open(model_path, \"rb\"))\n",
    "    y_output = MODEL.predict(flat_data)\n",
    "\n",
    "    if y_output == 0:\n",
    "        return True\n",
    "    else:\n",
    "        return False\n",
    "    \n",
    "def calc_diff(img1, img2):\n",
    "    return np.abs(np.mean(img1) - np.mean(img2))\n",
    "\n",
    "def display_text(frame, spots_status):\n",
    "    text = f\"Available Lots: {str(sum(spots_status))} / {str(len(spots_status))}\"\n",
    "    white = (255, 255, 255)\n",
    "    cv2.putText(frame, text, (100, 60), cv2.FONT_HERSHEY_SIMPLEX, 1, white, 2)"
   ]
  },
  {
   "attachments": {},
   "cell_type": "markdown",
   "metadata": {},
   "source": [
    "## 4. Masking"
   ]
  },
  {
   "cell_type": "code",
   "execution_count": 95,
   "metadata": {},
   "outputs": [
    {
     "data": {
      "text/plain": [
       "array([0, 0, 0, ..., 0, 0, 0], dtype=uint8)"
      ]
     },
     "execution_count": 95,
     "metadata": {},
     "output_type": "execute_result"
    }
   ],
   "source": [
    "# read grayscale image of mask\n",
    "mask = cv2.imread(mask_path, 0)\n",
    "cap = cv2.VideoCapture(video_path)\n",
    "\n",
    "mask[0] # First row of pixels"
   ]
  },
  {
   "cell_type": "code",
   "execution_count": 96,
   "metadata": {},
   "outputs": [],
   "source": [
    "connected_components = cv2.connectedComponentsWithStats(mask, 4, cv2.CV_32S)\n",
    "parking_spots_xywh = get_parking_spots_boxes(connected_components)"
   ]
  },
  {
   "attachments": {},
   "cell_type": "markdown",
   "metadata": {},
   "source": [
    "## 5. Start Test Video"
   ]
  },
  {
   "cell_type": "code",
   "execution_count": null,
   "metadata": {},
   "outputs": [],
   "source": [
    "spots_status = [None for i in parking_spots_xywh]\n",
    "diffs = [None for i in parking_spots_xywh]\n",
    "prev_frame = None\n",
    "\n",
    "# Continues as long as ret is True, indicating that a frame was successfully read.\n",
    "while ret:\n",
    "    # Retrieves next frame from video\n",
    "    ret, frame = cap.read()\n",
    "    \n",
    "    # For every 30 frames )if frame_num is divisible by 30)\n",
    "    if frame_num % frames_per_clf == 0:\n",
    "        if prev_frame is not None:\n",
    "            for index, xywh in enumerate(parking_spots_xywh):\n",
    "                x1, y1, w, h, _, _ = get_coor(xywh)\n",
    "                cropped_spot = frame[y1:y1+h, x1:x1+w, :]\n",
    "                diffs[index] = calc_diff(cropped_spot, prev_frame[y1:y1+h, x1:x1+w, :])\n",
    "                \n",
    "            arr_ = [j for j in np.argsort(diffs) if diffs[j] / np.amax(diffs) > 0.2]\n",
    "        else:\n",
    "            arr_ = range(len(parking_spots_xywh))\n",
    "            \n",
    "        for index in arr_:\n",
    "            xywh = parking_spots_xywh[index]\n",
    "            # Get all coordinates\n",
    "            x1, y1, w, h, _, _ = get_coor(xywh)\n",
    "            # Define coordinates for parking spot only\n",
    "            cropped_spot = frame[y1:y1+h, x1:x1+w, :]\n",
    "            \n",
    "            # Use model to predict if cropped_spot is empty or not\n",
    "            is_it_empty = is_empty(cropped_spot, model_path)\n",
    "            # Store prediction as True or False\n",
    "            spots_status[index] = is_it_empty\n",
    "\n",
    "    if frame_num % frames_per_clf == 0:\n",
    "        prev_frame = frame.copy()\n",
    "\n",
    "    for index, xywh in enumerate(parking_spots_xywh):\n",
    "        _, _, _, _, top_left, bottom_right = get_coor(xywh)\n",
    "        \n",
    "        is_it_empty = spots_status[index]\n",
    "            \n",
    "        if is_it_empty is True:\n",
    "            frame = cv2.rectangle(frame,top_left,bottom_right,green,line_wt)\n",
    "        else:\n",
    "            frame = cv2.rectangle(frame,top_left,bottom_right,red,line_wt)\n",
    "    \n",
    "    display_text(frame, spots_status)\n",
    "    \n",
    "    # Display the current frame, in a window named 'frame'\n",
    "    cv2.imshow('frame', frame)\n",
    "    \n",
    "    if cv2.waitKey(25) & 0xFF == ord('q'):\n",
    "        break\n",
    "    \n",
    "    frame_num += 1\n",
    "    \n",
    "cap.release()\n",
    "cv2.destroyAllWindows()"
   ]
  }
 ],
 "metadata": {
  "kernelspec": {
   "display_name": "ParkingEnv",
   "language": "python",
   "name": "python3"
  },
  "language_info": {
   "codemirror_mode": {
    "name": "ipython",
    "version": 3
   },
   "file_extension": ".py",
   "mimetype": "text/x-python",
   "name": "python",
   "nbconvert_exporter": "python",
   "pygments_lexer": "ipython3",
   "version": "3.9.16"
  },
  "orig_nbformat": 4
 },
 "nbformat": 4,
 "nbformat_minor": 2
}
